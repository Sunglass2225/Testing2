{
 "cells": [
  {
   "cell_type": "markdown",
   "id": "d2944294-d8de-4422-8a30-58a7653fce33",
   "metadata": {},
   "source": [
    "## Problem 3: Framingham Heart Study\n",
    "a) Build a logistic regression model.  "
   ]
  },
  {
   "cell_type": "markdown",
   "id": "4b0056fe-e3f9-4cfc-8c00-02ed5e8f1822",
   "metadata": {},
   "source": [
    "First improt and declair necessary model and fuction."
   ]
  },
  {
   "cell_type": "code",
   "execution_count": 1,
   "id": "0faffe6f-df7c-42e6-822e-fd872a5b8c75",
   "metadata": {},
   "outputs": [],
   "source": [
    "import numpy as np\n",
    "import pandas as pd\n",
    "import os\n",
    "import statsmodels.formula.api as smf\n",
    "import matplotlib.pyplot as plt\n",
    "import warnings\n",
    "\n",
    "from sklearn.metrics import roc_curve, auc\n",
    "from sklearn.model_selection import train_test_split\n",
    "from sklearn.metrics import confusion_matrix\n",
    "from sklearn.linear_model import LogisticRegression\n",
    "from sklearn.metrics import plot_roc_curve"
   ]
  },
  {
   "cell_type": "markdown",
   "id": "95e5a0d4-449b-4adb-9737-21e6af207e39",
   "metadata": {},
   "source": [
    "Import data from the same file direction."
   ]
  },
  {
   "cell_type": "code",
   "execution_count": 2,
   "id": "6d45d406-e30f-43dd-b639-6bd2154b9a97",
   "metadata": {},
   "outputs": [
    {
     "name": "stdout",
     "output_type": "stream",
     "text": [
      "<class 'pandas.core.frame.DataFrame'>\n",
      "RangeIndex: 3658 entries, 0 to 3657\n",
      "Data columns (total 16 columns):\n",
      " #   Column           Non-Null Count  Dtype  \n",
      "---  ------           --------------  -----  \n",
      " 0   male             3658 non-null   int64  \n",
      " 1   age              3658 non-null   int64  \n",
      " 2   education        3658 non-null   object \n",
      " 3   currentSmoker    3658 non-null   int64  \n",
      " 4   cigsPerDay       3658 non-null   int64  \n",
      " 5   BPMeds           3658 non-null   int64  \n",
      " 6   prevalentStroke  3658 non-null   int64  \n",
      " 7   prevalentHyp     3658 non-null   int64  \n",
      " 8   diabetes         3658 non-null   int64  \n",
      " 9   totChol          3658 non-null   int64  \n",
      " 10  sysBP            3658 non-null   float64\n",
      " 11  diaBP            3658 non-null   float64\n",
      " 12  BMI              3658 non-null   float64\n",
      " 13  heartRate        3658 non-null   int64  \n",
      " 14  glucose          3658 non-null   int64  \n",
      " 15  TenYearCHD       3658 non-null   int64  \n",
      "dtypes: float64(3), int64(12), object(1)\n",
      "memory usage: 457.4+ KB\n"
     ]
    },
    {
     "data": {
      "text/html": [
       "<div>\n",
       "<style scoped>\n",
       "    .dataframe tbody tr th:only-of-type {\n",
       "        vertical-align: middle;\n",
       "    }\n",
       "\n",
       "    .dataframe tbody tr th {\n",
       "        vertical-align: top;\n",
       "    }\n",
       "\n",
       "    .dataframe thead th {\n",
       "        text-align: right;\n",
       "    }\n",
       "</style>\n",
       "<table border=\"1\" class=\"dataframe\">\n",
       "  <thead>\n",
       "    <tr style=\"text-align: right;\">\n",
       "      <th></th>\n",
       "      <th>male</th>\n",
       "      <th>age</th>\n",
       "      <th>education</th>\n",
       "      <th>currentSmoker</th>\n",
       "      <th>cigsPerDay</th>\n",
       "      <th>BPMeds</th>\n",
       "      <th>prevalentStroke</th>\n",
       "      <th>prevalentHyp</th>\n",
       "      <th>diabetes</th>\n",
       "      <th>totChol</th>\n",
       "      <th>sysBP</th>\n",
       "      <th>diaBP</th>\n",
       "      <th>BMI</th>\n",
       "      <th>heartRate</th>\n",
       "      <th>glucose</th>\n",
       "      <th>TenYearCHD</th>\n",
       "    </tr>\n",
       "  </thead>\n",
       "  <tbody>\n",
       "    <tr>\n",
       "      <th>0</th>\n",
       "      <td>1</td>\n",
       "      <td>39</td>\n",
       "      <td>College</td>\n",
       "      <td>0</td>\n",
       "      <td>0</td>\n",
       "      <td>0</td>\n",
       "      <td>0</td>\n",
       "      <td>0</td>\n",
       "      <td>0</td>\n",
       "      <td>195</td>\n",
       "      <td>106.0</td>\n",
       "      <td>70.0</td>\n",
       "      <td>26.97</td>\n",
       "      <td>80</td>\n",
       "      <td>77</td>\n",
       "      <td>0</td>\n",
       "    </tr>\n",
       "    <tr>\n",
       "      <th>1</th>\n",
       "      <td>0</td>\n",
       "      <td>46</td>\n",
       "      <td>High school/GED</td>\n",
       "      <td>0</td>\n",
       "      <td>0</td>\n",
       "      <td>0</td>\n",
       "      <td>0</td>\n",
       "      <td>0</td>\n",
       "      <td>0</td>\n",
       "      <td>250</td>\n",
       "      <td>121.0</td>\n",
       "      <td>81.0</td>\n",
       "      <td>28.73</td>\n",
       "      <td>95</td>\n",
       "      <td>76</td>\n",
       "      <td>0</td>\n",
       "    </tr>\n",
       "    <tr>\n",
       "      <th>2</th>\n",
       "      <td>1</td>\n",
       "      <td>48</td>\n",
       "      <td>Some high school</td>\n",
       "      <td>1</td>\n",
       "      <td>20</td>\n",
       "      <td>0</td>\n",
       "      <td>0</td>\n",
       "      <td>0</td>\n",
       "      <td>0</td>\n",
       "      <td>245</td>\n",
       "      <td>127.5</td>\n",
       "      <td>80.0</td>\n",
       "      <td>25.34</td>\n",
       "      <td>75</td>\n",
       "      <td>70</td>\n",
       "      <td>0</td>\n",
       "    </tr>\n",
       "    <tr>\n",
       "      <th>3</th>\n",
       "      <td>0</td>\n",
       "      <td>61</td>\n",
       "      <td>Some college/vocational school</td>\n",
       "      <td>1</td>\n",
       "      <td>30</td>\n",
       "      <td>0</td>\n",
       "      <td>0</td>\n",
       "      <td>1</td>\n",
       "      <td>0</td>\n",
       "      <td>225</td>\n",
       "      <td>150.0</td>\n",
       "      <td>95.0</td>\n",
       "      <td>28.58</td>\n",
       "      <td>65</td>\n",
       "      <td>103</td>\n",
       "      <td>1</td>\n",
       "    </tr>\n",
       "    <tr>\n",
       "      <th>4</th>\n",
       "      <td>0</td>\n",
       "      <td>46</td>\n",
       "      <td>Some college/vocational school</td>\n",
       "      <td>1</td>\n",
       "      <td>23</td>\n",
       "      <td>0</td>\n",
       "      <td>0</td>\n",
       "      <td>0</td>\n",
       "      <td>0</td>\n",
       "      <td>285</td>\n",
       "      <td>130.0</td>\n",
       "      <td>84.0</td>\n",
       "      <td>23.10</td>\n",
       "      <td>85</td>\n",
       "      <td>85</td>\n",
       "      <td>0</td>\n",
       "    </tr>\n",
       "  </tbody>\n",
       "</table>\n",
       "</div>"
      ],
      "text/plain": [
       "   male  age                       education  currentSmoker  cigsPerDay  \\\n",
       "0     1   39                         College              0           0   \n",
       "1     0   46                 High school/GED              0           0   \n",
       "2     1   48                Some high school              1          20   \n",
       "3     0   61  Some college/vocational school              1          30   \n",
       "4     0   46  Some college/vocational school              1          23   \n",
       "\n",
       "   BPMeds  prevalentStroke  prevalentHyp  diabetes  totChol  sysBP  diaBP  \\\n",
       "0       0                0             0         0      195  106.0   70.0   \n",
       "1       0                0             0         0      250  121.0   81.0   \n",
       "2       0                0             0         0      245  127.5   80.0   \n",
       "3       0                0             1         0      225  150.0   95.0   \n",
       "4       0                0             0         0      285  130.0   84.0   \n",
       "\n",
       "     BMI  heartRate  glucose  TenYearCHD  \n",
       "0  26.97         80       77           0  \n",
       "1  28.73         95       76           0  \n",
       "2  25.34         75       70           0  \n",
       "3  28.58         65      103           1  \n",
       "4  23.10         85       85           0  "
      ]
     },
     "execution_count": 2,
     "metadata": {},
     "output_type": "execute_result"
    }
   ],
   "source": [
    "path = os.getcwd() + \"/Framingham.csv\"\n",
    "CHD = pd.read_csv(path)\n",
    "CHD.info()\n",
    "CHD.head()"
   ]
  },
  {
   "cell_type": "markdown",
   "id": "2127bccb-b93f-4a40-ab4c-01465048e14f",
   "metadata": {},
   "source": [
    "Check how many different types there are in the categorical data in the fearure.  "
   ]
  },
  {
   "cell_type": "code",
   "execution_count": 3,
   "id": "687abbb7-5d14-4f0a-99e5-954ad72750ae",
   "metadata": {},
   "outputs": [
    {
     "data": {
      "text/plain": [
       "array(['College', 'High school/GED', 'Some high school',\n",
       "       'Some college/vocational school'], dtype=object)"
      ]
     },
     "execution_count": 3,
     "metadata": {},
     "output_type": "execute_result"
    }
   ],
   "source": [
    "CHD['education'].unique()"
   ]
  },
  {
   "cell_type": "markdown",
   "id": "ec83b587-d50a-45b1-ae62-e8f56f6ebb4d",
   "metadata": {},
   "source": [
    "Using sklearn's function to split Split the data with 75% for the training set and 25% for the testing set, and print out brief result."
   ]
  },
  {
   "cell_type": "code",
   "execution_count": 4,
   "id": "e62c6015-9563-4457-94d2-4c5a3c80982c",
   "metadata": {},
   "outputs": [
    {
     "data": {
      "text/plain": [
       "((2743, 16), (915, 16))"
      ]
     },
     "execution_count": 4,
     "metadata": {},
     "output_type": "execute_result"
    }
   ],
   "source": [
    "CHD_train, CHD_test = train_test_split(CHD, test_size=0.25, random_state=88)\n",
    "CHD_train.shape, CHD_test.shape"
   ]
  },
  {
   "cell_type": "markdown",
   "id": "9a2c216b-23e0-4208-becd-fe9e2685c877",
   "metadata": {},
   "source": [
    "Check the proportion of result in the training set."
   ]
  },
  {
   "cell_type": "code",
   "execution_count": 5,
   "id": "0c721832-854a-4732-99b3-75a596cc8630",
   "metadata": {},
   "outputs": [
    {
     "name": "stdout",
     "output_type": "stream",
     "text": [
      "0    2332\n",
      "1     411\n",
      "dtype: int64\n"
     ]
    }
   ],
   "source": [
    "CHD_false = np.sum(CHD_train['TenYearCHD'] == 0)\n",
    "CHD_true = np.sum(CHD_train['TenYearCHD'] == 1)\n",
    "\n",
    "print(pd.Series({'0': CHD_false, '1': CHD_true}))"
   ]
  },
  {
   "cell_type": "markdown",
   "id": "33336d07-d42c-47fd-ad98-943102c55c33",
   "metadata": {},
   "source": [
    "Run the first logistic regression model by the training data."
   ]
  },
  {
   "cell_type": "code",
   "execution_count": 6,
   "id": "f01f4257-6433-45a2-8463-155b53ee8aa3",
   "metadata": {},
   "outputs": [
    {
     "name": "stdout",
     "output_type": "stream",
     "text": [
      "Optimization terminated successfully.\n",
      "         Current function value: 0.374053\n",
      "         Iterations 7\n",
      "                           Logit Regression Results                           \n",
      "==============================================================================\n",
      "Dep. Variable:             TenYearCHD   No. Observations:                 2743\n",
      "Model:                          Logit   Df Residuals:                     2725\n",
      "Method:                           MLE   Df Model:                           17\n",
      "Date:                Sat, 01 Oct 2022   Pseudo R-squ.:                  0.1145\n",
      "Time:                        14:30:18   Log-Likelihood:                -1026.0\n",
      "converged:                       True   LL-Null:                       -1158.7\n",
      "Covariance Type:            nonrobust   LLR p-value:                 1.499e-46\n",
      "===============================================================================================================\n",
      "                                                  coef    std err          z      P>|z|      [0.025      0.975]\n",
      "---------------------------------------------------------------------------------------------------------------\n",
      "Intercept                                      -7.5107      0.812     -9.250      0.000      -9.102      -5.919\n",
      "education[T.High school/GED]                   -0.0210      0.215     -0.098      0.922      -0.442       0.400\n",
      "education[T.Some college/vocational school]    -0.1335      0.242     -0.553      0.580      -0.607       0.340\n",
      "education[T.Some high school]                   0.2296      0.201      1.145      0.252      -0.163       0.623\n",
      "male                                            0.5678      0.126      4.511      0.000       0.321       0.814\n",
      "age                                             0.0548      0.008      7.060      0.000       0.040       0.070\n",
      "currentSmoker                                   0.0524      0.183      0.286      0.775      -0.306       0.411\n",
      "cigsPerDay                                      0.0161      0.007      2.175      0.030       0.002       0.031\n",
      "BPMeds                                          0.2094      0.277      0.755      0.450      -0.334       0.753\n",
      "prevalentStroke                                -0.0662      0.699     -0.095      0.925      -1.436       1.304\n",
      "prevalentHyp                                    0.3154      0.160      1.967      0.049       0.001       0.630\n",
      "diabetes                                        0.2839      0.375      0.758      0.449      -0.450       1.018\n",
      "totChol                                         0.0013      0.001      1.000      0.318      -0.001       0.004\n",
      "sysBP                                           0.0181      0.004      4.036      0.000       0.009       0.027\n",
      "diaBP                                          -0.0090      0.007     -1.239      0.215      -0.023       0.005\n",
      "BMI                                             0.0112      0.015      0.769      0.442      -0.017       0.040\n",
      "heartRate                                      -0.0056      0.005     -1.139      0.255      -0.015       0.004\n",
      "glucose                                         0.0046      0.002      1.845      0.065      -0.000       0.010\n",
      "===============================================================================================================\n"
     ]
    }
   ],
   "source": [
    "logCHD = smf.logit(formula = 'TenYearCHD ~ male + age + education + currentSmoker + cigsPerDay + BPMeds + prevalentStroke + prevalentHyp + diabetes + totChol + sysBP + diaBP + BMI + heartRate + glucose',\n",
    "                   data = CHD_train).fit()\n",
    "\n",
    "print(logCHD.summary())"
   ]
  },
  {
   "cell_type": "markdown",
   "id": "75d7be59-54d7-4388-8db2-d14c3c2ee86b",
   "metadata": {},
   "source": [
    "Remove insignificant variables: prevalentStroke  "
   ]
  },
  {
   "cell_type": "code",
   "execution_count": 7,
   "id": "576facab-b0c0-465b-a481-9b9fa311075c",
   "metadata": {},
   "outputs": [
    {
     "name": "stdout",
     "output_type": "stream",
     "text": [
      "Optimization terminated successfully.\n",
      "         Current function value: 0.374055\n",
      "         Iterations 7\n",
      "                           Logit Regression Results                           \n",
      "==============================================================================\n",
      "Dep. Variable:             TenYearCHD   No. Observations:                 2743\n",
      "Model:                          Logit   Df Residuals:                     2726\n",
      "Method:                           MLE   Df Model:                           16\n",
      "Date:                Sat, 01 Oct 2022   Pseudo R-squ.:                  0.1145\n",
      "Time:                        14:30:18   Log-Likelihood:                -1026.0\n",
      "converged:                       True   LL-Null:                       -1158.7\n",
      "Covariance Type:            nonrobust   LLR p-value:                 3.625e-47\n",
      "===============================================================================================================\n",
      "                                                  coef    std err          z      P>|z|      [0.025      0.975]\n",
      "---------------------------------------------------------------------------------------------------------------\n",
      "Intercept                                      -7.5097      0.812     -9.249      0.000      -9.101      -5.918\n",
      "education[T.High school/GED]                   -0.0214      0.215     -0.100      0.921      -0.442       0.399\n",
      "education[T.Some college/vocational school]    -0.1343      0.241     -0.556      0.578      -0.608       0.339\n",
      "education[T.Some high school]                   0.2293      0.201      1.144      0.253      -0.164       0.622\n",
      "male                                            0.5679      0.126      4.512      0.000       0.321       0.815\n",
      "age                                             0.0548      0.008      7.059      0.000       0.040       0.070\n",
      "currentSmoker                                   0.0524      0.183      0.286      0.775      -0.306       0.411\n",
      "cigsPerDay                                      0.0161      0.007      2.176      0.030       0.002       0.031\n",
      "BPMeds                                          0.2062      0.275      0.749      0.454      -0.334       0.746\n",
      "prevalentHyp                                    0.3153      0.160      1.966      0.049       0.001       0.630\n",
      "diabetes                                        0.2848      0.374      0.761      0.447      -0.449       1.019\n",
      "totChol                                         0.0013      0.001      1.002      0.317      -0.001       0.004\n",
      "sysBP                                           0.0181      0.004      4.036      0.000       0.009       0.027\n",
      "diaBP                                          -0.0091      0.007     -1.240      0.215      -0.023       0.005\n",
      "BMI                                             0.0111      0.015      0.766      0.443      -0.017       0.040\n",
      "heartRate                                      -0.0056      0.005     -1.136      0.256      -0.015       0.004\n",
      "glucose                                         0.0046      0.002      1.845      0.065      -0.000       0.009\n",
      "===============================================================================================================\n"
     ]
    }
   ],
   "source": [
    "logCHD_01 = smf.logit(formula = 'TenYearCHD ~ male + age + education + currentSmoker + cigsPerDay + BPMeds + prevalentHyp + diabetes + totChol + sysBP + diaBP + BMI + heartRate + glucose',\n",
    "                   data = CHD_train).fit()\n",
    "print(logCHD_01.summary())"
   ]
  },
  {
   "cell_type": "markdown",
   "id": "0a66a597-7f97-4618-86f4-577c3984d20e",
   "metadata": {},
   "source": [
    "Remove insignificant variables: currentSmoker"
   ]
  },
  {
   "cell_type": "code",
   "execution_count": 8,
   "id": "82498395-7ea8-4fc5-b802-377ba62c54c2",
   "metadata": {},
   "outputs": [
    {
     "name": "stdout",
     "output_type": "stream",
     "text": [
      "Optimization terminated successfully.\n",
      "         Current function value: 0.374070\n",
      "         Iterations 7\n",
      "                           Logit Regression Results                           \n",
      "==============================================================================\n",
      "Dep. Variable:             TenYearCHD   No. Observations:                 2743\n",
      "Model:                          Logit   Df Residuals:                     2727\n",
      "Method:                           MLE   Df Model:                           15\n",
      "Date:                Sat, 01 Oct 2022   Pseudo R-squ.:                  0.1145\n",
      "Time:                        14:30:18   Log-Likelihood:                -1026.1\n",
      "converged:                       True   LL-Null:                       -1158.7\n",
      "Covariance Type:            nonrobust   LLR p-value:                 8.777e-48\n",
      "===============================================================================================================\n",
      "                                                  coef    std err          z      P>|z|      [0.025      0.975]\n",
      "---------------------------------------------------------------------------------------------------------------\n",
      "Intercept                                      -7.4789      0.805     -9.292      0.000      -9.056      -5.901\n",
      "education[T.High school/GED]                   -0.0204      0.215     -0.095      0.924      -0.441       0.400\n",
      "education[T.Some college/vocational school]    -0.1357      0.241     -0.562      0.574      -0.609       0.338\n",
      "education[T.Some high school]                   0.2295      0.200      1.145      0.252      -0.163       0.622\n",
      "male                                            0.5675      0.126      4.508      0.000       0.321       0.814\n",
      "age                                             0.0547      0.008      7.056      0.000       0.040       0.070\n",
      "cigsPerDay                                      0.0177      0.005      3.564      0.000       0.008       0.027\n",
      "BPMeds                                          0.2070      0.275      0.752      0.452      -0.333       0.747\n",
      "prevalentHyp                                    0.3142      0.160      1.961      0.050       0.000       0.628\n",
      "diabetes                                        0.2856      0.374      0.763      0.446      -0.448       1.019\n",
      "totChol                                         0.0013      0.001      0.996      0.319      -0.001       0.004\n",
      "sysBP                                           0.0182      0.004      4.044      0.000       0.009       0.027\n",
      "diaBP                                          -0.0091      0.007     -1.245      0.213      -0.023       0.005\n",
      "BMI                                             0.0107      0.014      0.740      0.459      -0.018       0.039\n",
      "heartRate                                      -0.0056      0.005     -1.131      0.258      -0.015       0.004\n",
      "glucose                                         0.0046      0.002      1.838      0.066      -0.000       0.009\n",
      "===============================================================================================================\n"
     ]
    }
   ],
   "source": [
    "logCHD_02 = smf.logit(formula = 'TenYearCHD ~ male + age + education + cigsPerDay + BPMeds + prevalentHyp + diabetes + totChol + sysBP + diaBP + BMI + heartRate + glucose',\n",
    "                   data = CHD_train).fit()\n",
    "print(logCHD_02.summary())"
   ]
  },
  {
   "cell_type": "markdown",
   "id": "986bf1c8-33c3-4c8c-a93e-313343668f4f",
   "metadata": {},
   "source": [
    "Remove insignificant variables: BMI"
   ]
  },
  {
   "cell_type": "code",
   "execution_count": 9,
   "id": "39a09cf4-c8d8-4453-a6bd-3aa286d88d62",
   "metadata": {},
   "outputs": [
    {
     "name": "stdout",
     "output_type": "stream",
     "text": [
      "Optimization terminated successfully.\n",
      "         Current function value: 0.374169\n",
      "         Iterations 7\n",
      "                           Logit Regression Results                           \n",
      "==============================================================================\n",
      "Dep. Variable:             TenYearCHD   No. Observations:                 2743\n",
      "Model:                          Logit   Df Residuals:                     2728\n",
      "Method:                           MLE   Df Model:                           14\n",
      "Date:                Sat, 01 Oct 2022   Pseudo R-squ.:                  0.1142\n",
      "Time:                        14:30:18   Log-Likelihood:                -1026.3\n",
      "converged:                       True   LL-Null:                       -1158.7\n",
      "Covariance Type:            nonrobust   LLR p-value:                 2.559e-48\n",
      "===============================================================================================================\n",
      "                                                  coef    std err          z      P>|z|      [0.025      0.975]\n",
      "---------------------------------------------------------------------------------------------------------------\n",
      "Intercept                                      -7.2939      0.764     -9.553      0.000      -8.790      -5.797\n",
      "education[T.High school/GED]                   -0.0206      0.215     -0.096      0.923      -0.441       0.400\n",
      "education[T.Some college/vocational school]    -0.1362      0.241     -0.564      0.572      -0.609       0.337\n",
      "education[T.Some high school]                   0.2415      0.200      1.209      0.227      -0.150       0.633\n",
      "male                                            0.5674      0.126      4.509      0.000       0.321       0.814\n",
      "age                                             0.0545      0.008      7.037      0.000       0.039       0.070\n",
      "cigsPerDay                                      0.0174      0.005      3.515      0.000       0.008       0.027\n",
      "BPMeds                                          0.2097      0.275      0.762      0.446      -0.330       0.749\n",
      "prevalentHyp                                    0.3223      0.160      2.015      0.044       0.009       0.636\n",
      "diabetes                                        0.2952      0.374      0.790      0.430      -0.437       1.028\n",
      "totChol                                         0.0013      0.001      1.024      0.306      -0.001       0.004\n",
      "sysBP                                           0.0181      0.004      4.027      0.000       0.009       0.027\n",
      "diaBP                                          -0.0080      0.007     -1.117      0.264      -0.022       0.006\n",
      "heartRate                                      -0.0055      0.005     -1.118      0.263      -0.015       0.004\n",
      "glucose                                         0.0046      0.002      1.847      0.065      -0.000       0.009\n",
      "===============================================================================================================\n"
     ]
    }
   ],
   "source": [
    "logCHD_03 = smf.logit(formula = 'TenYearCHD ~ male + age + education + cigsPerDay + BPMeds + prevalentHyp + diabetes + totChol + sysBP + diaBP + heartRate + glucose',\n",
    "                   data = CHD_train).fit()\n",
    "print(logCHD_03.summary())"
   ]
  },
  {
   "cell_type": "markdown",
   "id": "fb4777cf-aba1-4f6d-867d-e0af68b3b166",
   "metadata": {},
   "source": [
    "Remove insignificant variables: BPMeds  "
   ]
  },
  {
   "cell_type": "code",
   "execution_count": 10,
   "id": "65f7e89d-3d8b-4bb1-9b67-b78b8142837f",
   "metadata": {},
   "outputs": [
    {
     "name": "stdout",
     "output_type": "stream",
     "text": [
      "Optimization terminated successfully.\n",
      "         Current function value: 0.374273\n",
      "         Iterations 7\n",
      "                           Logit Regression Results                           \n",
      "==============================================================================\n",
      "Dep. Variable:             TenYearCHD   No. Observations:                 2743\n",
      "Model:                          Logit   Df Residuals:                     2729\n",
      "Method:                           MLE   Df Model:                           13\n",
      "Date:                Sat, 01 Oct 2022   Pseudo R-squ.:                  0.1140\n",
      "Time:                        14:30:18   Log-Likelihood:                -1026.6\n",
      "converged:                       True   LL-Null:                       -1158.7\n",
      "Covariance Type:            nonrobust   LLR p-value:                 7.286e-49\n",
      "===============================================================================================================\n",
      "                                                  coef    std err          z      P>|z|      [0.025      0.975]\n",
      "---------------------------------------------------------------------------------------------------------------\n",
      "Intercept                                      -7.3296      0.762     -9.618      0.000      -8.823      -5.836\n",
      "education[T.High school/GED]                   -0.0207      0.215     -0.096      0.923      -0.441       0.400\n",
      "education[T.Some college/vocational school]    -0.1365      0.241     -0.566      0.572      -0.610       0.337\n",
      "education[T.Some high school]                   0.2395      0.200      1.199      0.231      -0.152       0.631\n",
      "male                                            0.5629      0.126      4.479      0.000       0.317       0.809\n",
      "age                                             0.0546      0.008      7.055      0.000       0.039       0.070\n",
      "cigsPerDay                                      0.0174      0.005      3.520      0.000       0.008       0.027\n",
      "prevalentHyp                                    0.3327      0.159      2.091      0.037       0.021       0.645\n",
      "diabetes                                        0.3047      0.373      0.818      0.414      -0.426       1.035\n",
      "totChol                                         0.0014      0.001      1.044      0.296      -0.001       0.004\n",
      "sysBP                                           0.0185      0.004      4.149      0.000       0.010       0.027\n",
      "diaBP                                          -0.0081      0.007     -1.139      0.255      -0.022       0.006\n",
      "heartRate                                      -0.0057      0.005     -1.155      0.248      -0.015       0.004\n",
      "glucose                                         0.0046      0.002      1.855      0.064      -0.000       0.009\n",
      "===============================================================================================================\n"
     ]
    }
   ],
   "source": [
    "logCHD_04 = smf.logit(formula = 'TenYearCHD ~ male + age + education + cigsPerDay + prevalentHyp + diabetes + totChol + sysBP + diaBP + heartRate + glucose',\n",
    "                   data = CHD_train).fit()\n",
    "print(logCHD_04.summary())"
   ]
  },
  {
   "cell_type": "markdown",
   "id": "a49993fc-e4d7-4878-a3cc-35f042436c03",
   "metadata": {},
   "source": [
    "Remove insignificant variables: diabetes"
   ]
  },
  {
   "cell_type": "code",
   "execution_count": 11,
   "id": "7694cb6b-9870-4a4c-888f-90f878e59fc0",
   "metadata": {},
   "outputs": [
    {
     "name": "stdout",
     "output_type": "stream",
     "text": [
      "Optimization terminated successfully.\n",
      "         Current function value: 0.374392\n",
      "         Iterations 7\n",
      "                           Logit Regression Results                           \n",
      "==============================================================================\n",
      "Dep. Variable:             TenYearCHD   No. Observations:                 2743\n",
      "Model:                          Logit   Df Residuals:                     2730\n",
      "Method:                           MLE   Df Model:                           12\n",
      "Date:                Sat, 01 Oct 2022   Pseudo R-squ.:                  0.1137\n",
      "Time:                        14:30:18   Log-Likelihood:                -1027.0\n",
      "converged:                       True   LL-Null:                       -1158.7\n",
      "Covariance Type:            nonrobust   LLR p-value:                 2.075e-49\n",
      "===============================================================================================================\n",
      "                                                  coef    std err          z      P>|z|      [0.025      0.975]\n",
      "---------------------------------------------------------------------------------------------------------------\n",
      "Intercept                                      -7.4386      0.751     -9.910      0.000      -8.910      -5.968\n",
      "education[T.High school/GED]                   -0.0239      0.215     -0.111      0.911      -0.445       0.397\n",
      "education[T.Some college/vocational school]    -0.1427      0.241     -0.591      0.554      -0.616       0.330\n",
      "education[T.Some high school]                   0.2379      0.200      1.191      0.234      -0.154       0.629\n",
      "male                                            0.5645      0.126      4.492      0.000       0.318       0.811\n",
      "age                                             0.0548      0.008      7.085      0.000       0.040       0.070\n",
      "cigsPerDay                                      0.0173      0.005      3.499      0.000       0.008       0.027\n",
      "prevalentHyp                                    0.3356      0.159      2.110      0.035       0.024       0.647\n",
      "totChol                                         0.0013      0.001      1.040      0.298      -0.001       0.004\n",
      "sysBP                                           0.0185      0.004      4.142      0.000       0.010       0.027\n",
      "diaBP                                          -0.0080      0.007     -1.124      0.261      -0.022       0.006\n",
      "heartRate                                      -0.0058      0.005     -1.170      0.242      -0.015       0.004\n",
      "glucose                                         0.0060      0.002      3.235      0.001       0.002       0.010\n",
      "===============================================================================================================\n"
     ]
    }
   ],
   "source": [
    "logCHD_05 = smf.logit(formula = 'TenYearCHD ~ male + age + education + cigsPerDay + prevalentHyp + totChol + sysBP + diaBP + heartRate + glucose',\n",
    "                   data = CHD_train).fit()\n",
    "print(logCHD_05.summary())"
   ]
  },
  {
   "cell_type": "markdown",
   "id": "b4b924c3-c939-409d-a5c7-fa15ff20ee20",
   "metadata": {},
   "source": [
    "Remove insignificant variables: totChol"
   ]
  },
  {
   "cell_type": "code",
   "execution_count": 12,
   "id": "44741824-af7f-4bbc-91f4-095cbf29be6e",
   "metadata": {},
   "outputs": [
    {
     "name": "stdout",
     "output_type": "stream",
     "text": [
      "Optimization terminated successfully.\n",
      "         Current function value: 0.374588\n",
      "         Iterations 7\n",
      "                           Logit Regression Results                           \n",
      "==============================================================================\n",
      "Dep. Variable:             TenYearCHD   No. Observations:                 2743\n",
      "Model:                          Logit   Df Residuals:                     2731\n",
      "Method:                           MLE   Df Model:                           11\n",
      "Date:                Sat, 01 Oct 2022   Pseudo R-squ.:                  0.1132\n",
      "Time:                        14:30:18   Log-Likelihood:                -1027.5\n",
      "converged:                       True   LL-Null:                       -1158.7\n",
      "Covariance Type:            nonrobust   LLR p-value:                 6.930e-50\n",
      "===============================================================================================================\n",
      "                                                  coef    std err          z      P>|z|      [0.025      0.975]\n",
      "---------------------------------------------------------------------------------------------------------------\n",
      "Intercept                                      -7.2056      0.714    -10.099      0.000      -8.604      -5.807\n",
      "education[T.High school/GED]                   -0.0288      0.215     -0.134      0.893      -0.449       0.392\n",
      "education[T.Some college/vocational school]    -0.1419      0.241     -0.588      0.556      -0.615       0.331\n",
      "education[T.Some high school]                   0.2252      0.199      1.129      0.259      -0.166       0.616\n",
      "male                                            0.5496      0.125      4.407      0.000       0.305       0.794\n",
      "age                                             0.0557      0.008      7.264      0.000       0.041       0.071\n",
      "cigsPerDay                                      0.0174      0.005      3.527      0.000       0.008       0.027\n",
      "prevalentHyp                                    0.3389      0.159      2.129      0.033       0.027       0.651\n",
      "sysBP                                           0.0188      0.004      4.221      0.000       0.010       0.027\n",
      "diaBP                                          -0.0081      0.007     -1.136      0.256      -0.022       0.006\n",
      "heartRate                                      -0.0055      0.005     -1.122      0.262      -0.015       0.004\n",
      "glucose                                         0.0060      0.002      3.265      0.001       0.002       0.010\n",
      "===============================================================================================================\n"
     ]
    }
   ],
   "source": [
    "logCHD_06 = smf.logit(formula = 'TenYearCHD ~ male + age + education + cigsPerDay + prevalentHyp + sysBP + diaBP + heartRate + glucose',\n",
    "                   data = CHD_train).fit()\n",
    "print(logCHD_06.summary())"
   ]
  },
  {
   "cell_type": "markdown",
   "id": "f35b8ab2-c8d4-4f3e-86af-82ed1ebdedf5",
   "metadata": {},
   "source": [
    "Since all three categorical variables of education is insignificant, remove it from the logistic regression.  "
   ]
  },
  {
   "cell_type": "code",
   "execution_count": 13,
   "id": "815ad016-d211-4339-b26d-60aef3b249bc",
   "metadata": {},
   "outputs": [
    {
     "name": "stdout",
     "output_type": "stream",
     "text": [
      "Optimization terminated successfully.\n",
      "         Current function value: 0.375727\n",
      "         Iterations 7\n",
      "                           Logit Regression Results                           \n",
      "==============================================================================\n",
      "Dep. Variable:             TenYearCHD   No. Observations:                 2743\n",
      "Model:                          Logit   Df Residuals:                     2734\n",
      "Method:                           MLE   Df Model:                            8\n",
      "Date:                Sat, 01 Oct 2022   Pseudo R-squ.:                  0.1105\n",
      "Time:                        14:30:18   Log-Likelihood:                -1030.6\n",
      "converged:                       True   LL-Null:                       -1158.7\n",
      "Covariance Type:            nonrobust   LLR p-value:                 8.426e-51\n",
      "================================================================================\n",
      "                   coef    std err          z      P>|z|      [0.025      0.975]\n",
      "--------------------------------------------------------------------------------\n",
      "Intercept       -7.3606      0.695    -10.595      0.000      -8.722      -5.999\n",
      "male             0.5737      0.124      4.636      0.000       0.331       0.816\n",
      "age              0.0590      0.008      7.859      0.000       0.044       0.074\n",
      "cigsPerDay       0.0176      0.005      3.563      0.000       0.008       0.027\n",
      "prevalentHyp     0.3424      0.159      2.154      0.031       0.031       0.654\n",
      "sysBP            0.0193      0.004      4.352      0.000       0.011       0.028\n",
      "diaBP           -0.0085      0.007     -1.194      0.232      -0.022       0.005\n",
      "heartRate       -0.0053      0.005     -1.084      0.278      -0.015       0.004\n",
      "glucose          0.0060      0.002      3.243      0.001       0.002       0.010\n",
      "================================================================================\n"
     ]
    }
   ],
   "source": [
    "logCHD_07 = smf.logit(formula = 'TenYearCHD ~ male + age + cigsPerDay + prevalentHyp + sysBP + diaBP + heartRate + glucose',\n",
    "                   data = CHD_train).fit()\n",
    "print(logCHD_07.summary())"
   ]
  },
  {
   "cell_type": "markdown",
   "id": "28a7ceac-7fa0-4436-bb21-a5c447b791ac",
   "metadata": {},
   "source": [
    "Remove insignificant variables: heartRate"
   ]
  },
  {
   "cell_type": "code",
   "execution_count": 14,
   "id": "a3d8c5f6-fbda-4616-84e9-d74d9005d3ed",
   "metadata": {},
   "outputs": [
    {
     "name": "stdout",
     "output_type": "stream",
     "text": [
      "Optimization terminated successfully.\n",
      "         Current function value: 0.375943\n",
      "         Iterations 7\n",
      "                           Logit Regression Results                           \n",
      "==============================================================================\n",
      "Dep. Variable:             TenYearCHD   No. Observations:                 2743\n",
      "Model:                          Logit   Df Residuals:                     2735\n",
      "Method:                           MLE   Df Model:                            7\n",
      "Date:                Sat, 01 Oct 2022   Pseudo R-squ.:                  0.1100\n",
      "Time:                        14:30:18   Log-Likelihood:                -1031.2\n",
      "converged:                       True   LL-Null:                       -1158.7\n",
      "Covariance Type:            nonrobust   LLR p-value:                 2.393e-51\n",
      "================================================================================\n",
      "                   coef    std err          z      P>|z|      [0.025      0.975]\n",
      "--------------------------------------------------------------------------------\n",
      "Intercept       -7.7059      0.620    -12.435      0.000      -8.921      -6.491\n",
      "male             0.5897      0.123      4.799      0.000       0.349       0.831\n",
      "age              0.0594      0.007      7.935      0.000       0.045       0.074\n",
      "cigsPerDay       0.0169      0.005      3.452      0.001       0.007       0.026\n",
      "prevalentHyp     0.3339      0.159      2.104      0.035       0.023       0.645\n",
      "sysBP            0.0190      0.004      4.301      0.000       0.010       0.028\n",
      "diaBP           -0.0088      0.007     -1.241      0.215      -0.023       0.005\n",
      "glucose          0.0058      0.002      3.152      0.002       0.002       0.009\n",
      "================================================================================\n"
     ]
    }
   ],
   "source": [
    "logCHD_08 = smf.logit(formula = 'TenYearCHD ~ male + age + cigsPerDay + prevalentHyp + sysBP + diaBP + glucose',\n",
    "                   data = CHD_train).fit()\n",
    "print(logCHD_08.summary())"
   ]
  },
  {
   "cell_type": "markdown",
   "id": "09e71ab7-a726-48f0-bed7-c4b4dedf7f84",
   "metadata": {},
   "source": [
    "Remove insignificant variables: diaBP           "
   ]
  },
  {
   "cell_type": "code",
   "execution_count": 15,
   "id": "cb7ff1b0-7e07-484d-952c-473a394c244e",
   "metadata": {},
   "outputs": [
    {
     "name": "stdout",
     "output_type": "stream",
     "text": [
      "Optimization terminated successfully.\n",
      "         Current function value: 0.376223\n",
      "         Iterations 7\n",
      "                           Logit Regression Results                           \n",
      "==============================================================================\n",
      "Dep. Variable:             TenYearCHD   No. Observations:                 2743\n",
      "Model:                          Logit   Df Residuals:                     2736\n",
      "Method:                           MLE   Df Model:                            6\n",
      "Date:                Sat, 01 Oct 2022   Pseudo R-squ.:                  0.1094\n",
      "Time:                        14:30:19   Log-Likelihood:                -1032.0\n",
      "converged:                       True   LL-Null:                       -1158.7\n",
      "Covariance Type:            nonrobust   LLR p-value:                 7.471e-52\n",
      "================================================================================\n",
      "                   coef    std err          z      P>|z|      [0.025      0.975]\n",
      "--------------------------------------------------------------------------------\n",
      "Intercept       -8.0647      0.550    -14.664      0.000      -9.143      -6.987\n",
      "male             0.5706      0.122      4.685      0.000       0.332       0.809\n",
      "age              0.0614      0.007      8.388      0.000       0.047       0.076\n",
      "cigsPerDay       0.0170      0.005      3.490      0.000       0.007       0.027\n",
      "prevalentHyp     0.3050      0.157      1.947      0.052      -0.002       0.612\n",
      "sysBP            0.0155      0.003      4.557      0.000       0.009       0.022\n",
      "glucose          0.0059      0.002      3.204      0.001       0.002       0.010\n",
      "================================================================================\n"
     ]
    }
   ],
   "source": [
    "logCHD_09 = smf.logit(formula = 'TenYearCHD ~ male + age + cigsPerDay + prevalentHyp + sysBP + glucose',\n",
    "                   data = CHD_train).fit()\n",
    "print(logCHD_09.summary())"
   ]
  },
  {
   "cell_type": "markdown",
   "id": "db24a1c7-be86-4c37-85e9-7d4d67cfe6bc",
   "metadata": {},
   "source": [
    "After 9 times of evaluations, we eliminate the insignificant variables from the model to have a better interpretation of the model.  \n",
    "According the the logistic regression model, the posibility of experienced coronary heart disease within 10\n",
    "years of first examination is more related to the observation's gender, age, number of cigarettes per day, currently hypertensive, systolic blood pressure, blood glucose level.\n",
    "The corfficient of the Intercept in negative, indicates that the probability of having the coronary heart disease within10\n",
    "years will be < 0.5.  \n",
    "Gender and currently hypertensive could have a greater effect on whether goning to have a coronary heart disease within 10\n",
    "years."
   ]
  },
  {
   "cell_type": "markdown",
   "id": "e372c2ac-5847-47ea-b0b8-fe957113d5a0",
   "metadata": {},
   "source": [
    "Using threshold = 0.4 to evaluate the model's Accuracy, True Positive Rate (TPR) and False Positive Rate (FPR)"
   ]
  },
  {
   "cell_type": "code",
   "execution_count": 16,
   "id": "029034a7-2d94-47e0-86ec-ee4a2d2e57a2",
   "metadata": {},
   "outputs": [
    {
     "name": "stdout",
     "output_type": "stream",
     "text": [
      "Confusion Matrix : \n",
      " [[747  22]\n",
      " [116  30]]\n"
     ]
    }
   ],
   "source": [
    "y_test = CHD_test['TenYearCHD']\n",
    "y_prob = logCHD_09.predict(CHD_test)\n",
    "y_pred = pd.Series([1 if x > 0.4 else 0 for x in y_prob], index=y_prob.index)\n",
    "\n",
    "cm = confusion_matrix(y_test, y_pred)\n",
    "print (\"Confusion Matrix : \\n\", cm) "
   ]
  },
  {
   "cell_type": "code",
   "execution_count": 17,
   "id": "835e6aff-696c-4f3d-925a-f890c5634311",
   "metadata": {},
   "outputs": [
    {
     "name": "stdout",
     "output_type": "stream",
     "text": [
      "[747  22 116  30]\n"
     ]
    }
   ],
   "source": [
    "print(cm.ravel())"
   ]
  },
  {
   "cell_type": "code",
   "execution_count": 18,
   "id": "f881aa8b-c9a0-446f-8c95-3a27d2b465fe",
   "metadata": {},
   "outputs": [
    {
     "data": {
      "text/plain": [
       "0.8491803278688524"
      ]
     },
     "execution_count": 18,
     "metadata": {},
     "output_type": "execute_result"
    }
   ],
   "source": [
    "#ACC\n",
    "(cm.ravel()[0]+cm.ravel()[3])/sum(cm.ravel())"
   ]
  },
  {
   "cell_type": "code",
   "execution_count": 19,
   "id": "d29ff01b-0956-4033-830b-77ce21826aeb",
   "metadata": {},
   "outputs": [
    {
     "data": {
      "text/plain": [
       "0.2054794520547945"
      ]
     },
     "execution_count": 19,
     "metadata": {},
     "output_type": "execute_result"
    }
   ],
   "source": [
    "#TPR\n",
    "(cm.ravel()[3])/(cm.ravel()[2]+cm.ravel()[3])"
   ]
  },
  {
   "cell_type": "code",
   "execution_count": 20,
   "id": "c1e62368-37ed-44d9-b54e-b144f2c82513",
   "metadata": {},
   "outputs": [
    {
     "data": {
      "text/plain": [
       "0.02860858257477243"
      ]
     },
     "execution_count": 20,
     "metadata": {},
     "output_type": "execute_result"
    }
   ],
   "source": [
    "#FPR\n",
    "(cm.ravel()[1])/(cm.ravel()[0]+cm.ravel()[1])"
   ]
  },
  {
   "cell_type": "markdown",
   "id": "a0ded6bb-ddea-4cb7-9371-954c5d085aaf",
   "metadata": {},
   "source": [
    "According to the outcome of the confusion matrix, our model's Accuracy= 0.85, TPR=0.029, FPR=0.205.  Though the Accuracy is reasonably high, the TPR is too low.  \n",
    "True Positive Rate is the proportion of having CHD in 10 years (Yi= 1) that we correctly identified as high-risk group (Pr(Yi= 1) > 0.4).  \n",
    "False Positive Rate is the proportion of not having CHD in 10 years (Yi= 0) incorrectly identified as high risk group (Pr(Yi= 1) > 0.4)\n",
    "\n",
    "As our analysis is to predict whether the observation would have a CHD in 10 years, it is better that the TPR rate is higher to not misjudge persons that have risk to \"no risk\", preventing them from losing further awareness. On the other hand, the FPR rate is not that important while misjudging those no-risk persons wouldn't cause a bad result.  "
   ]
  },
  {
   "cell_type": "markdown",
   "id": "53fd0ede-c6cd-4d31-ae17-4efd85d062e9",
   "metadata": {},
   "source": [
    "b) ROC Curve"
   ]
  },
  {
   "cell_type": "markdown",
   "id": "eb3c8bde-dea3-454c-9ca1-26198260f11c",
   "metadata": {},
   "source": [
    "Building the ROC curve from the logistic regression model(logCHD_09) on the testing set."
   ]
  },
  {
   "cell_type": "code",
   "execution_count": 21,
   "id": "40bcfa1f-96cb-48e9-aac1-feb7a00babe5",
   "metadata": {},
   "outputs": [
    {
     "data": {
      "image/png": "[encoded data removed]",
      "text/plain": [
       "<Figure size 576x432 with 1 Axes>"
      ]
     },
     "metadata": {
      "needs_background": "light"
     },
     "output_type": "display_data"
    }
   ],
   "source": [
    "fpr, tpr, _ = roc_curve(y_test, y_prob)\n",
    "roc_auc = auc(fpr, tpr)\n",
    "\n",
    "plt.figure(figsize=(8, 6))\n",
    "plt.title('ROC Curve', fontsize=18)\n",
    "plt.xlabel('FPR', fontsize=16)\n",
    "plt.ylabel('TPR', fontsize=16)\n",
    "plt.xlim([-0.01, 1.00])\n",
    "plt.ylim([-0.01, 1.01])\n",
    "plt.plot(fpr, tpr, lw=3, label='Logistic Regression (area = {:0.2f})'.format(roc_auc))\n",
    "plt.plot([0, 1], [0, 1], color='navy', lw=3, linestyle='--')\n",
    "plt.legend(loc='lower right', fontsize=14)\n",
    "plt.show()"
   ]
  },
  {
   "cell_type": "markdown",
   "id": "e885119b-f844-47f8-93fe-67f62ded26d5",
   "metadata": {},
   "source": [
    "Set the class weight of TenYearCHD to balanced and build the logistic regression model, confusion matrix, and the ROC curve.\n",
    "Frist set the dataset with dummy variables."
   ]
  },
  {
   "cell_type": "code",
   "execution_count": 22,
   "id": "55e2672d-117f-4443-a4d2-912e05694cc7",
   "metadata": {},
   "outputs": [
    {
     "data": {
      "text/html": [
       "<div>\n",
       "<style scoped>\n",
       "    .dataframe tbody tr th:only-of-type {\n",
       "        vertical-align: middle;\n",
       "    }\n",
       "\n",
       "    .dataframe tbody tr th {\n",
       "        vertical-align: top;\n",
       "    }\n",
       "\n",
       "    .dataframe thead th {\n",
       "        text-align: right;\n",
       "    }\n",
       "</style>\n",
       "<table border=\"1\" class=\"dataframe\">\n",
       "  <thead>\n",
       "    <tr style=\"text-align: right;\">\n",
       "      <th></th>\n",
       "      <th>male</th>\n",
       "      <th>age</th>\n",
       "      <th>currentSmoker</th>\n",
       "      <th>cigsPerDay</th>\n",
       "      <th>BPMeds</th>\n",
       "      <th>prevalentStroke</th>\n",
       "      <th>prevalentHyp</th>\n",
       "      <th>diabetes</th>\n",
       "      <th>totChol</th>\n",
       "      <th>sysBP</th>\n",
       "      <th>diaBP</th>\n",
       "      <th>BMI</th>\n",
       "      <th>heartRate</th>\n",
       "      <th>glucose</th>\n",
       "      <th>TenYearCHD</th>\n",
       "      <th>education_High school/GED</th>\n",
       "      <th>education_Some college/vocational school</th>\n",
       "      <th>education_Some high school</th>\n",
       "    </tr>\n",
       "  </thead>\n",
       "  <tbody>\n",
       "    <tr>\n",
       "      <th>1824</th>\n",
       "      <td>0</td>\n",
       "      <td>40</td>\n",
       "      <td>1</td>\n",
       "      <td>5</td>\n",
       "      <td>0</td>\n",
       "      <td>0</td>\n",
       "      <td>0</td>\n",
       "      <td>0</td>\n",
       "      <td>143</td>\n",
       "      <td>125.5</td>\n",
       "      <td>80.0</td>\n",
       "      <td>21.99</td>\n",
       "      <td>71</td>\n",
       "      <td>95</td>\n",
       "      <td>0</td>\n",
       "      <td>0</td>\n",
       "      <td>1</td>\n",
       "      <td>0</td>\n",
       "    </tr>\n",
       "    <tr>\n",
       "      <th>1221</th>\n",
       "      <td>0</td>\n",
       "      <td>51</td>\n",
       "      <td>1</td>\n",
       "      <td>15</td>\n",
       "      <td>0</td>\n",
       "      <td>0</td>\n",
       "      <td>0</td>\n",
       "      <td>0</td>\n",
       "      <td>345</td>\n",
       "      <td>142.0</td>\n",
       "      <td>88.0</td>\n",
       "      <td>19.05</td>\n",
       "      <td>80</td>\n",
       "      <td>73</td>\n",
       "      <td>0</td>\n",
       "      <td>0</td>\n",
       "      <td>0</td>\n",
       "      <td>1</td>\n",
       "    </tr>\n",
       "    <tr>\n",
       "      <th>1662</th>\n",
       "      <td>1</td>\n",
       "      <td>61</td>\n",
       "      <td>1</td>\n",
       "      <td>20</td>\n",
       "      <td>0</td>\n",
       "      <td>0</td>\n",
       "      <td>0</td>\n",
       "      <td>0</td>\n",
       "      <td>167</td>\n",
       "      <td>105.0</td>\n",
       "      <td>67.5</td>\n",
       "      <td>27.28</td>\n",
       "      <td>88</td>\n",
       "      <td>86</td>\n",
       "      <td>0</td>\n",
       "      <td>1</td>\n",
       "      <td>0</td>\n",
       "      <td>0</td>\n",
       "    </tr>\n",
       "    <tr>\n",
       "      <th>1432</th>\n",
       "      <td>0</td>\n",
       "      <td>40</td>\n",
       "      <td>1</td>\n",
       "      <td>5</td>\n",
       "      <td>0</td>\n",
       "      <td>0</td>\n",
       "      <td>0</td>\n",
       "      <td>0</td>\n",
       "      <td>174</td>\n",
       "      <td>130.0</td>\n",
       "      <td>86.0</td>\n",
       "      <td>25.05</td>\n",
       "      <td>80</td>\n",
       "      <td>83</td>\n",
       "      <td>0</td>\n",
       "      <td>1</td>\n",
       "      <td>0</td>\n",
       "      <td>0</td>\n",
       "    </tr>\n",
       "    <tr>\n",
       "      <th>2341</th>\n",
       "      <td>1</td>\n",
       "      <td>44</td>\n",
       "      <td>1</td>\n",
       "      <td>20</td>\n",
       "      <td>0</td>\n",
       "      <td>0</td>\n",
       "      <td>0</td>\n",
       "      <td>0</td>\n",
       "      <td>225</td>\n",
       "      <td>130.0</td>\n",
       "      <td>77.5</td>\n",
       "      <td>21.19</td>\n",
       "      <td>92</td>\n",
       "      <td>82</td>\n",
       "      <td>0</td>\n",
       "      <td>0</td>\n",
       "      <td>0</td>\n",
       "      <td>0</td>\n",
       "    </tr>\n",
       "    <tr>\n",
       "      <th>...</th>\n",
       "      <td>...</td>\n",
       "      <td>...</td>\n",
       "      <td>...</td>\n",
       "      <td>...</td>\n",
       "      <td>...</td>\n",
       "      <td>...</td>\n",
       "      <td>...</td>\n",
       "      <td>...</td>\n",
       "      <td>...</td>\n",
       "      <td>...</td>\n",
       "      <td>...</td>\n",
       "      <td>...</td>\n",
       "      <td>...</td>\n",
       "      <td>...</td>\n",
       "      <td>...</td>\n",
       "      <td>...</td>\n",
       "      <td>...</td>\n",
       "      <td>...</td>\n",
       "    </tr>\n",
       "    <tr>\n",
       "      <th>182</th>\n",
       "      <td>1</td>\n",
       "      <td>53</td>\n",
       "      <td>1</td>\n",
       "      <td>30</td>\n",
       "      <td>0</td>\n",
       "      <td>0</td>\n",
       "      <td>0</td>\n",
       "      <td>0</td>\n",
       "      <td>189</td>\n",
       "      <td>110.0</td>\n",
       "      <td>67.5</td>\n",
       "      <td>23.59</td>\n",
       "      <td>60</td>\n",
       "      <td>63</td>\n",
       "      <td>0</td>\n",
       "      <td>0</td>\n",
       "      <td>0</td>\n",
       "      <td>0</td>\n",
       "    </tr>\n",
       "    <tr>\n",
       "      <th>2641</th>\n",
       "      <td>0</td>\n",
       "      <td>43</td>\n",
       "      <td>1</td>\n",
       "      <td>10</td>\n",
       "      <td>0</td>\n",
       "      <td>0</td>\n",
       "      <td>0</td>\n",
       "      <td>0</td>\n",
       "      <td>269</td>\n",
       "      <td>139.0</td>\n",
       "      <td>96.0</td>\n",
       "      <td>24.38</td>\n",
       "      <td>77</td>\n",
       "      <td>71</td>\n",
       "      <td>0</td>\n",
       "      <td>0</td>\n",
       "      <td>0</td>\n",
       "      <td>1</td>\n",
       "    </tr>\n",
       "    <tr>\n",
       "      <th>2973</th>\n",
       "      <td>1</td>\n",
       "      <td>57</td>\n",
       "      <td>1</td>\n",
       "      <td>15</td>\n",
       "      <td>0</td>\n",
       "      <td>0</td>\n",
       "      <td>0</td>\n",
       "      <td>1</td>\n",
       "      <td>245</td>\n",
       "      <td>132.0</td>\n",
       "      <td>77.0</td>\n",
       "      <td>23.01</td>\n",
       "      <td>76</td>\n",
       "      <td>207</td>\n",
       "      <td>0</td>\n",
       "      <td>0</td>\n",
       "      <td>1</td>\n",
       "      <td>0</td>\n",
       "    </tr>\n",
       "    <tr>\n",
       "      <th>1062</th>\n",
       "      <td>0</td>\n",
       "      <td>38</td>\n",
       "      <td>1</td>\n",
       "      <td>9</td>\n",
       "      <td>0</td>\n",
       "      <td>0</td>\n",
       "      <td>0</td>\n",
       "      <td>0</td>\n",
       "      <td>160</td>\n",
       "      <td>102.5</td>\n",
       "      <td>67.5</td>\n",
       "      <td>21.16</td>\n",
       "      <td>90</td>\n",
       "      <td>68</td>\n",
       "      <td>0</td>\n",
       "      <td>1</td>\n",
       "      <td>0</td>\n",
       "      <td>0</td>\n",
       "    </tr>\n",
       "    <tr>\n",
       "      <th>2824</th>\n",
       "      <td>0</td>\n",
       "      <td>59</td>\n",
       "      <td>0</td>\n",
       "      <td>0</td>\n",
       "      <td>0</td>\n",
       "      <td>0</td>\n",
       "      <td>0</td>\n",
       "      <td>0</td>\n",
       "      <td>239</td>\n",
       "      <td>127.0</td>\n",
       "      <td>88.5</td>\n",
       "      <td>27.20</td>\n",
       "      <td>90</td>\n",
       "      <td>78</td>\n",
       "      <td>0</td>\n",
       "      <td>1</td>\n",
       "      <td>0</td>\n",
       "      <td>0</td>\n",
       "    </tr>\n",
       "  </tbody>\n",
       "</table>\n",
       "<p>915 rows × 18 columns</p>\n",
       "</div>"
      ],
      "text/plain": [
       "      male  age  currentSmoker  cigsPerDay  BPMeds  prevalentStroke  \\\n",
       "1824     0   40              1           5       0                0   \n",
       "1221     0   51              1          15       0                0   \n",
       "1662     1   61              1          20       0                0   \n",
       "1432     0   40              1           5       0                0   \n",
       "2341     1   44              1          20       0                0   \n",
       "...    ...  ...            ...         ...     ...              ...   \n",
       "182      1   53              1          30       0                0   \n",
       "2641     0   43              1          10       0                0   \n",
       "2973     1   57              1          15       0                0   \n",
       "1062     0   38              1           9       0                0   \n",
       "2824     0   59              0           0       0                0   \n",
       "\n",
       "      prevalentHyp  diabetes  totChol  sysBP  diaBP    BMI  heartRate  \\\n",
       "1824             0         0      143  125.5   80.0  21.99         71   \n",
       "1221             0         0      345  142.0   88.0  19.05         80   \n",
       "1662             0         0      167  105.0   67.5  27.28         88   \n",
       "1432             0         0      174  130.0   86.0  25.05         80   \n",
       "2341             0         0      225  130.0   77.5  21.19         92   \n",
       "...            ...       ...      ...    ...    ...    ...        ...   \n",
       "182              0         0      189  110.0   67.5  23.59         60   \n",
       "2641             0         0      269  139.0   96.0  24.38         77   \n",
       "2973             0         1      245  132.0   77.0  23.01         76   \n",
       "1062             0         0      160  102.5   67.5  21.16         90   \n",
       "2824             0         0      239  127.0   88.5  27.20         90   \n",
       "\n",
       "      glucose  TenYearCHD  education_High school/GED  \\\n",
       "1824       95           0                          0   \n",
       "1221       73           0                          0   \n",
       "1662       86           0                          1   \n",
       "1432       83           0                          1   \n",
       "2341       82           0                          0   \n",
       "...       ...         ...                        ...   \n",
       "182        63           0                          0   \n",
       "2641       71           0                          0   \n",
       "2973      207           0                          0   \n",
       "1062       68           0                          1   \n",
       "2824       78           0                          1   \n",
       "\n",
       "      education_Some college/vocational school  education_Some high school  \n",
       "1824                                         1                           0  \n",
       "1221                                         0                           1  \n",
       "1662                                         0                           0  \n",
       "1432                                         0                           0  \n",
       "2341                                         0                           0  \n",
       "...                                        ...                         ...  \n",
       "182                                          0                           0  \n",
       "2641                                         0                           1  \n",
       "2973                                         1                           0  \n",
       "1062                                         0                           0  \n",
       "2824                                         0                           0  \n",
       "\n",
       "[915 rows x 18 columns]"
      ]
     },
     "execution_count": 22,
     "metadata": {},
     "output_type": "execute_result"
    }
   ],
   "source": [
    "CHD_train_balance = pd.get_dummies(data=CHD_train, drop_first=True)\n",
    "CHD_test_balance = pd.get_dummies(data=CHD_test, drop_first=True)\n",
    "\n",
    "cols = CHD_train_balance.columns[CHD_train_balance.columns != \"TenYearCHD\"]\n",
    "CHD_test_balance"
   ]
  },
  {
   "cell_type": "markdown",
   "id": "4beafb5c-2b97-4568-8d0b-8ea8b85f3fb5",
   "metadata": {},
   "source": [
    "Use sklearn function to set the class weight to balance."
   ]
  },
  {
   "cell_type": "code",
   "execution_count": 23,
   "id": "b9907fab-3665-4c02-93ae-51e0ae701447",
   "metadata": {},
   "outputs": [
    {
     "name": "stderr",
     "output_type": "stream",
     "text": [
      "C:\\Users\\ZenBook\\anaconda3\\lib\\site-packages\\sklearn\\linear_model\\_logistic.py:814: ConvergenceWarning: lbfgs failed to converge (status=1):\n",
      "STOP: TOTAL NO. of ITERATIONS REACHED LIMIT.\n",
      "\n",
      "Increase the number of iterations (max_iter) or scale the data as shown in:\n",
      "    https://scikit-learn.org/stable/modules/preprocessing.html\n",
      "Please also refer to the documentation for alternative solver options:\n",
      "    https://scikit-learn.org/stable/modules/linear_model.html#logistic-regression\n",
      "  n_iter_i = _check_optimize_result(\n"
     ]
    },
    {
     "data": {
      "text/plain": [
       "LogisticRegression(class_weight='balanced')"
      ]
     },
     "execution_count": 23,
     "metadata": {},
     "output_type": "execute_result"
    }
   ],
   "source": [
    "bal_model = LogisticRegression(class_weight='balanced')\n",
    "bal_model.fit(X=CHD_train_balance[cols], y=CHD_train_balance['TenYearCHD'])"
   ]
  },
  {
   "cell_type": "code",
   "execution_count": 24,
   "id": "6f8c5458-7fd5-4b99-bbd2-700be4a4fd97",
   "metadata": {},
   "outputs": [
    {
     "name": "stdout",
     "output_type": "stream",
     "text": [
      "0.6543930003645644\n"
     ]
    }
   ],
   "source": [
    "print(bal_model.score(X=CHD_train_balance[cols], y=CHD_train_balance['TenYearCHD'])) "
   ]
  },
  {
   "cell_type": "code",
   "execution_count": 25,
   "id": "593f9f21-a610-4fc7-846c-06d11ad2eaa0",
   "metadata": {},
   "outputs": [
    {
     "data": {
      "text/plain": [
       "array([[485, 284],\n",
       "       [ 53,  93]], dtype=int64)"
      ]
     },
     "execution_count": 25,
     "metadata": {},
     "output_type": "execute_result"
    }
   ],
   "source": [
    "y_pred_bal = bal_model.predict(CHD_test_balance[cols])\n",
    "cm_bal = confusion_matrix(y_test, y_pred_bal)\n",
    "cm_bal"
   ]
  },
  {
   "cell_type": "code",
   "execution_count": 26,
   "id": "2c109c7b-7fa5-4834-8181-5f02565d72f7",
   "metadata": {},
   "outputs": [
    {
     "name": "stderr",
     "output_type": "stream",
     "text": [
      "C:\\Users\\ZenBook\\anaconda3\\lib\\site-packages\\sklearn\\utils\\deprecation.py:87: FutureWarning: Function plot_roc_curve is deprecated; Function :func:`plot_roc_curve` is deprecated in 1.0 and will be removed in 1.2. Use one of the class methods: :meth:`sklearn.metric.RocCurveDisplay.from_predictions` or :meth:`sklearn.metric.RocCurveDisplay.from_estimator`.\n",
      "  warnings.warn(msg, category=FutureWarning)\n"
     ]
    },
    {
     "data": {
      "image/png": "[encoded data removed]",
      "text/plain": [
       "<Figure size 432x288 with 1 Axes>"
      ]
     },
     "metadata": {
      "needs_background": "light"
     },
     "output_type": "display_data"
    }
   ],
   "source": [
    "plot_roc_curve(bal_model, CHD_test_balance[cols], CHD_test_balance['TenYearCHD'])\n",
    "plt.plot([0, 1], [0, 1], color='navy', lw=3, linestyle='--')\n",
    "plt.title('ROC Curve', fontsize=18)\n",
    "plt.xlabel('FPR', fontsize=16)\n",
    "plt.ylabel('TPR', fontsize=16)\n",
    "plt.xlim([-0.01, 1.00])\n",
    "plt.ylim([-0.01, 1.01])\n",
    "plt.legend(loc='lower right', fontsize=10)\n",
    "plt.show()"
   ]
  },
  {
   "cell_type": "markdown",
   "id": "7c48ebb1-3566-49d3-b5b4-044c8818ee5a",
   "metadata": {},
   "source": [
    "The Accuracy of the balanced class weight model is 0.65, much worse than our logistic regression model. And the AUC and FPR are much worse than the previous one.\n",
    "\n",
    "However, the TPR rate raise from 0.205 to 93/93+53 = 0.637, which significantly raise the proportion correctly identified as a high-risk group of having CHD in 10 years."
   ]
  },
  {
   "cell_type": "markdown",
   "id": "385baf2f-e558-4509-94b4-e231fdaa0629",
   "metadata": {},
   "source": [
    "# Problem 4: Nissan Rogue Sales Study"
   ]
  },
  {
   "cell_type": "markdown",
   "id": "c3b54efa-c3a5-4a75-bb09-ea62abafae27",
   "metadata": {},
   "source": [
    "Import data from the same file direction."
   ]
  },
  {
   "cell_type": "code",
   "execution_count": 27,
   "id": "5e86dd2d-e311-4c00-b9b5-a9ac569a62eb",
   "metadata": {},
   "outputs": [
    {
     "name": "stdout",
     "output_type": "stream",
     "text": [
      "<class 'pandas.core.frame.DataFrame'>\n",
      "RangeIndex: 162 entries, 0 to 161\n",
      "Data columns (total 8 columns):\n",
      " #   Column        Non-Null Count  Dtype  \n",
      "---  ------        --------------  -----  \n",
      " 0   MonthNumeric  162 non-null    int64  \n",
      " 1   MonthFactor   162 non-null    object \n",
      " 2   Year          162 non-null    int64  \n",
      " 3   RogueSales    162 non-null    int64  \n",
      " 4   Unemployment  162 non-null    float64\n",
      " 5   RogueQueries  162 non-null    int64  \n",
      " 6   CPIAll        162 non-null    float64\n",
      " 7   CPIEnergy     162 non-null    float64\n",
      "dtypes: float64(3), int64(4), object(1)\n",
      "memory usage: 10.2+ KB\n"
     ]
    },
    {
     "data": {
      "text/html": [
       "<div>\n",
       "<style scoped>\n",
       "    .dataframe tbody tr th:only-of-type {\n",
       "        vertical-align: middle;\n",
       "    }\n",
       "\n",
       "    .dataframe tbody tr th {\n",
       "        vertical-align: top;\n",
       "    }\n",
       "\n",
       "    .dataframe thead th {\n",
       "        text-align: right;\n",
       "    }\n",
       "</style>\n",
       "<table border=\"1\" class=\"dataframe\">\n",
       "  <thead>\n",
       "    <tr style=\"text-align: right;\">\n",
       "      <th></th>\n",
       "      <th>MonthNumeric</th>\n",
       "      <th>MonthFactor</th>\n",
       "      <th>Year</th>\n",
       "      <th>RogueSales</th>\n",
       "      <th>Unemployment</th>\n",
       "      <th>RogueQueries</th>\n",
       "      <th>CPIAll</th>\n",
       "      <th>CPIEnergy</th>\n",
       "    </tr>\n",
       "  </thead>\n",
       "  <tbody>\n",
       "    <tr>\n",
       "      <th>0</th>\n",
       "      <td>1</td>\n",
       "      <td>January</td>\n",
       "      <td>2008</td>\n",
       "      <td>5435</td>\n",
       "      <td>5.0</td>\n",
       "      <td>18</td>\n",
       "      <td>212.174</td>\n",
       "      <td>226.775</td>\n",
       "    </tr>\n",
       "    <tr>\n",
       "      <th>1</th>\n",
       "      <td>2</td>\n",
       "      <td>February</td>\n",
       "      <td>2008</td>\n",
       "      <td>5223</td>\n",
       "      <td>4.9</td>\n",
       "      <td>11</td>\n",
       "      <td>212.687</td>\n",
       "      <td>229.731</td>\n",
       "    </tr>\n",
       "    <tr>\n",
       "      <th>2</th>\n",
       "      <td>3</td>\n",
       "      <td>March</td>\n",
       "      <td>2008</td>\n",
       "      <td>6873</td>\n",
       "      <td>5.1</td>\n",
       "      <td>18</td>\n",
       "      <td>213.448</td>\n",
       "      <td>233.349</td>\n",
       "    </tr>\n",
       "    <tr>\n",
       "      <th>3</th>\n",
       "      <td>4</td>\n",
       "      <td>April</td>\n",
       "      <td>2008</td>\n",
       "      <td>5814</td>\n",
       "      <td>5.0</td>\n",
       "      <td>17</td>\n",
       "      <td>213.942</td>\n",
       "      <td>234.778</td>\n",
       "    </tr>\n",
       "    <tr>\n",
       "      <th>4</th>\n",
       "      <td>5</td>\n",
       "      <td>May</td>\n",
       "      <td>2008</td>\n",
       "      <td>7467</td>\n",
       "      <td>5.4</td>\n",
       "      <td>17</td>\n",
       "      <td>215.208</td>\n",
       "      <td>243.924</td>\n",
       "    </tr>\n",
       "  </tbody>\n",
       "</table>\n",
       "</div>"
      ],
      "text/plain": [
       "   MonthNumeric MonthFactor  Year  RogueSales  Unemployment  RogueQueries  \\\n",
       "0             1     January  2008        5435           5.0            18   \n",
       "1             2    February  2008        5223           4.9            11   \n",
       "2             3       March  2008        6873           5.1            18   \n",
       "3             4       April  2008        5814           5.0            17   \n",
       "4             5         May  2008        7467           5.4            17   \n",
       "\n",
       "    CPIAll  CPIEnergy  \n",
       "0  212.174    226.775  \n",
       "1  212.687    229.731  \n",
       "2  213.448    233.349  \n",
       "3  213.942    234.778  \n",
       "4  215.208    243.924  "
      ]
     },
     "execution_count": 27,
     "metadata": {},
     "output_type": "execute_result"
    }
   ],
   "source": [
    "path = os.getcwd() + \"/Rogue_242.csv\"\n",
    "sales = pd.read_csv(path)\n",
    "sales.info()\n",
    "sales.head()"
   ]
  },
  {
   "cell_type": "markdown",
   "id": "6ea22895-ad69-4173-ad1c-e05cba058d3d",
   "metadata": {},
   "source": [
    "Using order data to present the data of \"Year\" and \"MonthFactor\", ex. (January, 2008) = 0, (February, 2008) = 1 etc. "
   ]
  },
  {
   "cell_type": "code",
   "execution_count": 28,
   "id": "5f530494-50b5-40a0-b22c-9a00e61368c6",
   "metadata": {},
   "outputs": [
    {
     "data": {
      "text/html": [
       "<div>\n",
       "<style scoped>\n",
       "    .dataframe tbody tr th:only-of-type {\n",
       "        vertical-align: middle;\n",
       "    }\n",
       "\n",
       "    .dataframe tbody tr th {\n",
       "        vertical-align: top;\n",
       "    }\n",
       "\n",
       "    .dataframe thead th {\n",
       "        text-align: right;\n",
       "    }\n",
       "</style>\n",
       "<table border=\"1\" class=\"dataframe\">\n",
       "  <thead>\n",
       "    <tr style=\"text-align: right;\">\n",
       "      <th></th>\n",
       "      <th>Year_Month</th>\n",
       "      <th>MonthNumeric</th>\n",
       "      <th>MonthFactor</th>\n",
       "      <th>Year</th>\n",
       "      <th>RogueSales</th>\n",
       "      <th>Unemployment</th>\n",
       "      <th>RogueQueries</th>\n",
       "      <th>CPIAll</th>\n",
       "      <th>CPIEnergy</th>\n",
       "    </tr>\n",
       "  </thead>\n",
       "  <tbody>\n",
       "    <tr>\n",
       "      <th>0</th>\n",
       "      <td>0</td>\n",
       "      <td>1</td>\n",
       "      <td>January</td>\n",
       "      <td>2008</td>\n",
       "      <td>5435</td>\n",
       "      <td>5.0</td>\n",
       "      <td>18</td>\n",
       "      <td>212.174</td>\n",
       "      <td>226.775</td>\n",
       "    </tr>\n",
       "    <tr>\n",
       "      <th>1</th>\n",
       "      <td>1</td>\n",
       "      <td>2</td>\n",
       "      <td>February</td>\n",
       "      <td>2008</td>\n",
       "      <td>5223</td>\n",
       "      <td>4.9</td>\n",
       "      <td>11</td>\n",
       "      <td>212.687</td>\n",
       "      <td>229.731</td>\n",
       "    </tr>\n",
       "    <tr>\n",
       "      <th>2</th>\n",
       "      <td>2</td>\n",
       "      <td>3</td>\n",
       "      <td>March</td>\n",
       "      <td>2008</td>\n",
       "      <td>6873</td>\n",
       "      <td>5.1</td>\n",
       "      <td>18</td>\n",
       "      <td>213.448</td>\n",
       "      <td>233.349</td>\n",
       "    </tr>\n",
       "    <tr>\n",
       "      <th>3</th>\n",
       "      <td>3</td>\n",
       "      <td>4</td>\n",
       "      <td>April</td>\n",
       "      <td>2008</td>\n",
       "      <td>5814</td>\n",
       "      <td>5.0</td>\n",
       "      <td>17</td>\n",
       "      <td>213.942</td>\n",
       "      <td>234.778</td>\n",
       "    </tr>\n",
       "    <tr>\n",
       "      <th>4</th>\n",
       "      <td>4</td>\n",
       "      <td>5</td>\n",
       "      <td>May</td>\n",
       "      <td>2008</td>\n",
       "      <td>7467</td>\n",
       "      <td>5.4</td>\n",
       "      <td>17</td>\n",
       "      <td>215.208</td>\n",
       "      <td>243.924</td>\n",
       "    </tr>\n",
       "  </tbody>\n",
       "</table>\n",
       "</div>"
      ],
      "text/plain": [
       "   Year_Month  MonthNumeric MonthFactor  Year  RogueSales  Unemployment  \\\n",
       "0           0             1     January  2008        5435           5.0   \n",
       "1           1             2    February  2008        5223           4.9   \n",
       "2           2             3       March  2008        6873           5.1   \n",
       "3           3             4       April  2008        5814           5.0   \n",
       "4           4             5         May  2008        7467           5.4   \n",
       "\n",
       "   RogueQueries   CPIAll  CPIEnergy  \n",
       "0            18  212.174    226.775  \n",
       "1            11  212.687    229.731  \n",
       "2            18  213.448    233.349  \n",
       "3            17  213.942    234.778  \n",
       "4            17  215.208    243.924  "
      ]
     },
     "execution_count": 28,
     "metadata": {},
     "output_type": "execute_result"
    }
   ],
   "source": [
    "sales_order = sales.copy()\n",
    "sales_order.insert(0, 'Year_Month', range(0, 0 + len(sales_order)))\n",
    "\n",
    "sales_order.head()"
   ]
  },
  {
   "cell_type": "markdown",
   "id": "a90e407b-5e4c-477c-abd6-f936600bac2e",
   "metadata": {},
   "source": [
    "Chronological order could be useful when splitting datasets into training and testing data because the relationship between training and testing data could be using past data to predict future data.  \n",
    "However, spiting time-series data with chronological order should be careful when the dataset isn't large enough or unexpected major factors exist in future testing data.  This could result in the training model overfit in the training data, causing very poor outcomes in the Out-of-Sample R square.\n",
    "\n",
    "Because the result in spliting the Nissan Rogue Sales dataset with chronological order is very poor, the following analyze would use random split the dataset with 75% for the training set and 25% for the testing set.  "
   ]
  },
  {
   "cell_type": "code",
   "execution_count": 29,
   "id": "8842142a-5066-49a0-a49a-fedea8950806",
   "metadata": {},
   "outputs": [
    {
     "name": "stdout",
     "output_type": "stream",
     "text": [
      "No. of training examples: 122\n",
      "No. of testing examples: 40\n"
     ]
    }
   ],
   "source": [
    "sales_train = sales_order.sample(frac=0.75, random_state=88)\n",
    "sales_test = sales_order.drop(sales_train.index)\n",
    "\n",
    "print(f\"No. of training examples: {sales_train.shape[0]}\")\n",
    "print(f\"No. of testing examples: {sales_test.shape[0]}\")"
   ]
  },
  {
   "cell_type": "markdown",
   "id": "57fc7e4e-f351-423f-ae46-7429c50984bb",
   "metadata": {},
   "source": [
    "Run the linear regression with the order variable"
   ]
  },
  {
   "cell_type": "code",
   "execution_count": 30,
   "id": "5dcc08bf-fac9-4dd0-8cec-fbb7035d5284",
   "metadata": {},
   "outputs": [
    {
     "name": "stdout",
     "output_type": "stream",
     "text": [
      "                            OLS Regression Results                            \n",
      "==============================================================================\n",
      "Dep. Variable:             RogueSales   R-squared:                       0.826\n",
      "Model:                            OLS   Adj. R-squared:                  0.818\n",
      "Method:                 Least Squares   F-statistic:                     110.1\n",
      "Date:                Sat, 01 Oct 2022   Prob (F-statistic):           2.37e-42\n",
      "Time:                        14:30:19   Log-Likelihood:                -1198.8\n",
      "No. Observations:                 122   AIC:                             2410.\n",
      "Df Residuals:                     116   BIC:                             2426.\n",
      "Df Model:                           5                                         \n",
      "Covariance Type:            nonrobust                                         \n",
      "================================================================================\n",
      "                   coef    std err          t      P>|t|      [0.025      0.975]\n",
      "--------------------------------------------------------------------------------\n",
      "Intercept      4.19e+05   7.02e+04      5.971      0.000     2.8e+05    5.58e+05\n",
      "Year_Month     691.9386    116.081      5.961      0.000     462.026     921.851\n",
      "Unemployment -1445.4170    258.406     -5.594      0.000   -1957.223    -933.611\n",
      "RogueQueries   258.0110     62.338      4.139      0.000     134.542     381.480\n",
      "CPIAll       -2071.7042    368.917     -5.616      0.000   -2802.390   -1341.018\n",
      "CPIEnergy      147.4961     36.689      4.020      0.000      74.829     220.163\n",
      "==============================================================================\n",
      "Omnibus:                       18.387   Durbin-Watson:                   2.119\n",
      "Prob(Omnibus):                  0.000   Jarque-Bera (JB):               26.437\n",
      "Skew:                           0.763   Prob(JB):                     1.82e-06\n",
      "Kurtosis:                       4.695   Cond. No.                     5.67e+04\n",
      "==============================================================================\n",
      "\n",
      "Notes:\n",
      "[1] Standard Errors assume that the covariance matrix of the errors is correctly specified.\n",
      "[2] The condition number is large, 5.67e+04. This might indicate that there are\n",
      "strong multicollinearity or other numerical problems.\n"
     ]
    }
   ],
   "source": [
    "sales_model = smf.ols(formula='RogueSales ~ Year_Month + Unemployment + RogueQueries + CPIAll + CPIEnergy',\n",
    "                 data=sales_train).fit()\n",
    "\n",
    "print(sales_model.summary())"
   ]
  },
  {
   "cell_type": "markdown",
   "id": "3e614894-f469-4955-a5f6-ec3ebffc15c5",
   "metadata": {},
   "source": [
    "According to the result of linear regression, we could state that the model is present reasonably well, regarding that the R square is pretty high at 0.826.  \n",
    "However, the p-value of the features is a bit problematic, should not be all perfectly equal to 0.000. Further testing, such as VIF and OSR square, is needed to adjust the model.\n",
    "Also, the standard error of the \"Intercept\" is high, which could indicate the model is unstable, any minor change in the data could result in big shifts in the result.  This shows that the dataset needs to be bigger or adjust. "
   ]
  },
  {
   "cell_type": "markdown",
   "id": "c5747a3c-806e-4df7-a6dc-1956a6ec3250",
   "metadata": {},
   "source": [
    "Input the formula to calculate the OSR2, RSS, and TSS"
   ]
  },
  {
   "cell_type": "code",
   "execution_count": 31,
   "id": "d99d76a8-301c-4e14-aff9-4eff88b636bc",
   "metadata": {},
   "outputs": [],
   "source": [
    "def OSR2(model, df_train, df_test, dependent_var):   \n",
    "    \n",
    "    y_test = df_test[dependent_var]\n",
    "    y_pred = model.predict(df_test.loc[:, df_test.columns != dependent_var])\n",
    "    RSS = np.sum((y_test - y_pred)**2)\n",
    "    TSS = np.sum((y_test - np.mean(df_train[dependent_var]))**2)    \n",
    "    \n",
    "    return 1 - RSS/TSS\n",
    "\n",
    "def RSS(model, df_train, df_test, dependent_var):   \n",
    "    \n",
    "    y_test = df_test[dependent_var]\n",
    "    y_pred = model.predict(df_test.loc[:, df_test.columns != dependent_var])\n",
    "    RSS = np.sum((y_test - y_pred)**2)\n",
    "    \n",
    "    return RSS\n",
    "\n",
    "def TSS(model, df_train, df_test, dependent_var):   \n",
    "    \n",
    "    y_test = df_test[dependent_var]\n",
    "    y_pred = model.predict(df_test.loc[:, df_test.columns != dependent_var])\n",
    "    TSS = np.sum((y_test - np.mean(df_train[dependent_var]))**2)    \n",
    "    \n",
    "    return TSS"
   ]
  },
  {
   "cell_type": "code",
   "execution_count": 32,
   "id": "551ef45a-dfb5-4123-8cdd-c85c68b0aa8b",
   "metadata": {},
   "outputs": [
    {
     "name": "stdout",
     "output_type": "stream",
     "text": [
      "0.8317430646721384\n",
      "640173878.4504983\n",
      "3804739918.7621603\n"
     ]
    }
   ],
   "source": [
    "print(OSR2(sales_model, sales_train, sales_test, 'RogueSales'))\n",
    "print(RSS(sales_model, sales_train, sales_test, 'RogueSales'))\n",
    "print(TSS(sales_model, sales_train, sales_test, 'RogueSales'))"
   ]
  },
  {
   "cell_type": "markdown",
   "id": "51b59a29-3fb7-4912-bf92-bf397a643d5c",
   "metadata": {},
   "source": [
    "According to the result of Out of Sample R^2 = 0.83, the model is predicting the testing data well with the training data.\n",
    "\n",
    "The total sum of squares (TSS) measures how much variation there is in the observed data, while the residual sum of squares(RSS)measures the variation in the error between the observed data and modeled values. Using two of them to present the proportion we have predicted wrong in the total variation, then 1 minus the wrong proportion to calculate the proportion of variation the model has predicted right."
   ]
  },
  {
   "cell_type": "markdown",
   "id": "3df42a62-c175-4f08-b9e5-8abb035b0675",
   "metadata": {},
   "source": [
    "The variance inflation factor (VIF) provides a measure of multicollinearity among the independent variables in a regression model. Variables with a VIF value higher than 10 indicate that they share a certain degree of collinear relationship with another variable, this should be eliminated or adjusted from the model.  "
   ]
  },
  {
   "cell_type": "code",
   "execution_count": 33,
   "id": "45a2464f-a4e1-450c-a6d5-e8e286b488e6",
   "metadata": {},
   "outputs": [],
   "source": [
    "import statsmodels.api as sm\n",
    "from statsmodels.stats.outliers_influence import variance_inflation_factor\n",
    "\n",
    "def VIF(df, columns):\n",
    "    \n",
    "    values = sm.add_constant(df[columns]).values \n",
    "    num_columns = len(columns)+1\n",
    "    vif = [variance_inflation_factor(values, i) for i in range(num_columns)]\n",
    "    \n",
    "    return pd.Series(vif[1:], index=columns)"
   ]
  },
  {
   "cell_type": "code",
   "execution_count": 34,
   "id": "0147cf10-689d-4d4f-9d1c-6fd0a0dd8bd8",
   "metadata": {},
   "outputs": [
    {
     "data": {
      "text/plain": [
       "Year_Month      167.975719\n",
       "Unemployment      1.975626\n",
       "RogueQueries     15.296606\n",
       "CPIAll          180.399375\n",
       "CPIEnergy         3.834654\n",
       "dtype: float64"
      ]
     },
     "execution_count": 34,
     "metadata": {},
     "output_type": "execute_result"
    }
   ],
   "source": [
    "VIF(sales_train, [\"Year_Month\", 'Unemployment', 'RogueQueries', 'CPIAll', 'CPIEnergy'])"
   ]
  },
  {
   "cell_type": "markdown",
   "id": "dddc9006-9ede-477f-a6df-6332774b380d",
   "metadata": {},
   "source": [
    "The result shows that \"Year_Month\" and \"CPIAll\" have a strong collinear relationship.  Their relationship could be interpreted that the changes of \"CPIAll\" is based on the year and \"Year_Month\" presents the changes of time, which result that their changes being similar to some degree. \n",
    "So we remove the \"CPIAll\" from the modle, because the higher VIF value."
   ]
  },
  {
   "cell_type": "code",
   "execution_count": 35,
   "id": "847e63bb-bcb1-499b-b43c-558033040ad4",
   "metadata": {},
   "outputs": [
    {
     "name": "stdout",
     "output_type": "stream",
     "text": [
      "                            OLS Regression Results                            \n",
      "==============================================================================\n",
      "Dep. Variable:             RogueSales   R-squared:                       0.779\n",
      "Model:                            OLS   Adj. R-squared:                  0.771\n",
      "Method:                 Least Squares   F-statistic:                     102.9\n",
      "Date:                Sat, 01 Oct 2022   Prob (F-statistic):           2.29e-37\n",
      "Time:                        14:30:19   Log-Likelihood:                -1213.5\n",
      "No. Observations:                 122   AIC:                             2437.\n",
      "Df Residuals:                     117   BIC:                             2451.\n",
      "Df Model:                           4                                         \n",
      "Covariance Type:            nonrobust                                         \n",
      "================================================================================\n",
      "                   coef    std err          t      P>|t|      [0.025      0.975]\n",
      "--------------------------------------------------------------------------------\n",
      "Intercept     2.608e+04   6012.886      4.338      0.000    1.42e+04     3.8e+04\n",
      "Year_Month      62.3483     33.787      1.845      0.068      -4.565     129.261\n",
      "Unemployment -1800.9591    281.329     -6.402      0.000   -2358.116   -1243.802\n",
      "RogueQueries   130.9483     65.228      2.008      0.047       1.768     260.129\n",
      "CPIEnergy      -27.0537     21.888     -1.236      0.219     -70.402      16.294\n",
      "==============================================================================\n",
      "Omnibus:                        6.319   Durbin-Watson:                   1.949\n",
      "Prob(Omnibus):                  0.042   Jarque-Bera (JB):                7.516\n",
      "Skew:                           0.300   Prob(JB):                       0.0233\n",
      "Kurtosis:                       4.057   Cond. No.                     3.08e+03\n",
      "==============================================================================\n",
      "\n",
      "Notes:\n",
      "[1] Standard Errors assume that the covariance matrix of the errors is correctly specified.\n",
      "[2] The condition number is large, 3.08e+03. This might indicate that there are\n",
      "strong multicollinearity or other numerical problems.\n"
     ]
    }
   ],
   "source": [
    "sales_model_01 = smf.ols(formula='RogueSales ~ Year_Month + Unemployment + RogueQueries + CPIEnergy',\n",
    "                 data=sales_train).fit()\n",
    "\n",
    "print(sales_model_01.summary())"
   ]
  },
  {
   "cell_type": "code",
   "execution_count": 36,
   "id": "918b418a-d966-49e8-9bae-cc0ac70e40ca",
   "metadata": {},
   "outputs": [
    {
     "data": {
      "text/plain": [
       "0.769631208811933"
      ]
     },
     "execution_count": 36,
     "metadata": {},
     "output_type": "execute_result"
    }
   ],
   "source": [
    "OSR2(sales_model_01, sales_train, sales_test, 'RogueSales')"
   ]
  },
  {
   "cell_type": "code",
   "execution_count": 37,
   "id": "01b68d29-2ba8-4055-bed2-d80e924846e6",
   "metadata": {},
   "outputs": [
    {
     "data": {
      "text/plain": [
       "Year_Month      11.285219\n",
       "Unemployment     1.857027\n",
       "RogueQueries    13.281378\n",
       "CPIEnergy        1.082331\n",
       "dtype: float64"
      ]
     },
     "execution_count": 37,
     "metadata": {},
     "output_type": "execute_result"
    }
   ],
   "source": [
    "VIF(sales_train, ['Year_Month', 'Unemployment', 'RogueQueries', 'CPIEnergy'])"
   ]
  },
  {
   "cell_type": "markdown",
   "id": "def5842c-a55c-4715-af36-24c39120c6f0",
   "metadata": {},
   "source": [
    "The adjusted result then shows that \"Year_Month\" and \"RogueQueries\" have a slite collinear relationship. Their relationship could be interpreted that the changes of \"RogueQueries\" is also based on the year and \"Year_Month\" presents the changes of time, which result that their changes being similar to some degree. \n",
    "So we remove the \"RogueQueries\" from the modle, because the higher VIF value."
   ]
  },
  {
   "cell_type": "code",
   "execution_count": 38,
   "id": "ea03dfdd-96ba-4fe0-886d-02fdcc8ba93b",
   "metadata": {},
   "outputs": [
    {
     "name": "stdout",
     "output_type": "stream",
     "text": [
      "                            OLS Regression Results                            \n",
      "==============================================================================\n",
      "Dep. Variable:             RogueSales   R-squared:                       0.771\n",
      "Model:                            OLS   Adj. R-squared:                  0.765\n",
      "Method:                 Least Squares   F-statistic:                     132.4\n",
      "Date:                Sat, 01 Oct 2022   Prob (F-statistic):           1.31e-37\n",
      "Time:                        14:30:19   Log-Likelihood:                -1215.5\n",
      "No. Observations:                 122   AIC:                             2439.\n",
      "Df Residuals:                     118   BIC:                             2450.\n",
      "Df Model:                           3                                         \n",
      "Covariance Type:            nonrobust                                         \n",
      "================================================================================\n",
      "                   coef    std err          t      P>|t|      [0.025      0.975]\n",
      "--------------------------------------------------------------------------------\n",
      "Intercept     2.966e+04   5816.021      5.100      0.000    1.81e+04    4.12e+04\n",
      "Year_Month     125.1651     12.909      9.696      0.000      99.602     150.728\n",
      "Unemployment -2038.8202    258.418     -7.890      0.000   -2550.558   -1527.083\n",
      "CPIEnergy      -32.3872     22.003     -1.472      0.144     -75.960      11.185\n",
      "==============================================================================\n",
      "Omnibus:                        6.158   Durbin-Watson:                   1.958\n",
      "Prob(Omnibus):                  0.046   Jarque-Bera (JB):                9.003\n",
      "Skew:                           0.168   Prob(JB):                       0.0111\n",
      "Kurtosis:                       4.288   Cond. No.                     2.89e+03\n",
      "==============================================================================\n",
      "\n",
      "Notes:\n",
      "[1] Standard Errors assume that the covariance matrix of the errors is correctly specified.\n",
      "[2] The condition number is large, 2.89e+03. This might indicate that there are\n",
      "strong multicollinearity or other numerical problems.\n"
     ]
    }
   ],
   "source": [
    "sales_model_02 = smf.ols(formula='RogueSales ~ Year_Month + Unemployment + CPIEnergy',\n",
    "                 data=sales_train).fit()\n",
    "\n",
    "print(sales_model_02.summary())"
   ]
  },
  {
   "cell_type": "code",
   "execution_count": 39,
   "id": "48d39449-b132-4609-98db-f41a3f347b1a",
   "metadata": {},
   "outputs": [
    {
     "data": {
      "text/plain": [
       "0.7802394384496383"
      ]
     },
     "execution_count": 39,
     "metadata": {},
     "output_type": "execute_result"
    }
   ],
   "source": [
    "OSR2(sales_model_02, sales_train, sales_test, 'RogueSales')"
   ]
  },
  {
   "cell_type": "code",
   "execution_count": 40,
   "id": "b15bbdc0-5b88-4bcb-a4a2-461577331369",
   "metadata": {},
   "outputs": [
    {
     "data": {
      "text/plain": [
       "Year_Month      1.606154\n",
       "Unemployment    1.527642\n",
       "CPIEnergy       1.066386\n",
       "dtype: float64"
      ]
     },
     "execution_count": 40,
     "metadata": {},
     "output_type": "execute_result"
    }
   ],
   "source": [
    "VIF(sales_train, ['Year_Month', 'Unemployment', 'CPIEnergy'])"
   ]
  },
  {
   "cell_type": "markdown",
   "id": "491e165b-35b2-4c36-aa30-1ff937446198",
   "metadata": {},
   "source": [
    "After removing two feature, we eliminate the multicollinearity problem from the model"
   ]
  },
  {
   "cell_type": "markdown",
   "id": "4e58828e-ee49-41fe-869c-8fa1e1f243d3",
   "metadata": {},
   "source": [
    "The adjusted model(sales_model_02) though preform slitely worse in R^2 and OSR^2 the original one(sales_model), but it avoid themulticollinearity in its fearure.  \n",
    "According the adjusted model, it shows that we can predict the \"RogueSales\" base on the unemployment rate and the CPI for energy, which unemployment rate could effect more on the result because the higher coefficient value.  \n",
    "\"Year_Month\" is an order variable, it can not expain which year or month has a better sales but just indicated that the sales will grow over the time."
   ]
  },
  {
   "cell_type": "code",
   "execution_count": null,
   "id": "cac56e4a-8de7-4fc2-b7ac-d9d3133f558c",
   "metadata": {},
   "outputs": [],
   "source": []
  }
 ],
 "metadata": {
  "kernelspec": {
   "display_name": "Python 3 (ipykernel)",
   "language": "python",
   "name": "python3"
  },
  "language_info": {
   "codemirror_mode": {
    "name": "ipython",
    "version": 3
   },
   "file_extension": ".py",
   "mimetype": "text/x-python",
   "name": "python",
   "nbconvert_exporter": "python",
   "pygments_lexer": "ipython3",
   "version": "3.9.12"
  }
 },
 "nbformat": 4,
 "nbformat_minor": 5
}
